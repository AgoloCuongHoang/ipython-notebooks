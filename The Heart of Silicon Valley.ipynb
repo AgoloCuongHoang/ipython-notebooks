{
 "metadata": {
  "name": "",
  "signature": "sha256:01fe337746062056c6e251968f92b8c804acfa90e504d98a7d3a8376093bd51e"
 },
 "nbformat": 3,
 "nbformat_minor": 0,
 "worksheets": [
  {
   "cells": [
    {
     "cell_type": "markdown",
     "metadata": {},
     "source": [
      "After living in the Bay Area for almost a year, I've seen far too many claims about houses and businesses being in the \"heart\" of Silicon Valley. I want to get to the bottom of this\u2014where is Silicon Valley's geographical heart, anyway?"
     ]
    },
    {
     "cell_type": "code",
     "collapsed": false,
     "input": [
      "import requests\n",
      "from bs4 import BeautifulSoup\n",
      "\n",
      "%pylab\n",
      "import numpy as np"
     ],
     "language": "python",
     "metadata": {},
     "outputs": [],
     "prompt_number": 1
    },
    {
     "cell_type": "code",
     "collapsed": false,
     "input": [
      "listings_url = \"http://sfbay.craigslist.org/search/hhh?query=%22heart%20of%20silicon%20valley%22&s={offset}&sale_date=-&sort=rel&format=rss\"\n",
      "\n",
      "def get_listing_urls():\n",
      "    listings = []\n",
      "    offset = 0\n",
      "    stop = False\n",
      "    \n",
      "    while not stop:\n",
      "        req = requests.get(listings_url.format(offset=offset))\n",
      "        listings_doc = BeautifulSoup(req.text, \"xml\")\n",
      "        listing_els = listings_doc.findAll('item')\n",
      "        \n",
      "        if listing_els:\n",
      "            listings += [el.find('source').text for el in listing_els]\n",
      "            offset += len(listing_els)\n",
      "        else:\n",
      "            stop = True\n",
      "        \n",
      "    return listings"
     ],
     "language": "python",
     "metadata": {},
     "outputs": [],
     "prompt_number": 16
    },
    {
     "cell_type": "code",
     "collapsed": false,
     "input": [
      "def get_listing_location(url):\n",
      "    doc = BeautifulSoup(requests.get(url).text)\n",
      "    location_el = doc.find('div', attrs={'id': 'map'})\n",
      "    if location_el:\n",
      "        return (float(location_el.attrs['data-latitude']),\n",
      "                float(location_el.attrs['data-longitude']))"
     ],
     "language": "python",
     "metadata": {},
     "outputs": [],
     "prompt_number": 25
    },
    {
     "cell_type": "code",
     "collapsed": false,
     "input": [
      "import time\n",
      "\n",
      "def get_listing_locations(listing_urls):\n",
      "    for listing_url in listing_urls:\n",
      "        location = get_listing_location(listing_url)\n",
      "        if location:\n",
      "            yield location\n",
      "            \n",
      "        # Be nice to the Craigslist servers\n",
      "        time.sleep(0.25)"
     ],
     "language": "python",
     "metadata": {},
     "outputs": [],
     "prompt_number": 28
    },
    {
     "cell_type": "code",
     "collapsed": false,
     "input": [
      "locations = list(get_listing_locations(get_listing_urls()))"
     ],
     "language": "python",
     "metadata": {},
     "outputs": [],
     "prompt_number": 32
    },
    {
     "cell_type": "code",
     "collapsed": false,
     "input": [
      "(locations[:10], len(locations))"
     ],
     "language": "python",
     "metadata": {},
     "outputs": [
      {
       "metadata": {},
       "output_type": "pyout",
       "prompt_number": 34,
       "text": [
        "([(37.4087, -121.9406),\n",
        "  (37.39346, -121.999626),\n",
        "  (37.324697, -121.972414),\n",
        "  (37.366541, -122.017771),\n",
        "  (37.366541, -122.017771),\n",
        "  (37.366541, -122.017771),\n",
        "  (37.3855, -122.088),\n",
        "  (37.354549, -122.005336),\n",
        "  (37.279478, -121.991211),\n",
        "  (37.318334, -121.966268)],\n",
        " 261)"
       ]
      }
     ],
     "prompt_number": 34
    },
    {
     "cell_type": "code",
     "collapsed": false,
     "input": [
      "hist([loc[0] for loc in locations])"
     ],
     "language": "python",
     "metadata": {},
     "outputs": [
      {
       "metadata": {},
       "output_type": "pyout",
       "prompt_number": 50,
       "text": [
        "(array([  12.,   55.,  121.,   56.,   15.,    1.,    0.,    0.,    0.,    1.]),\n",
        " array([ 37.252443 ,  37.3007357,  37.3490284,  37.3973211,  37.4456138,\n",
        "         37.4939065,  37.5421992,  37.5904919,  37.6387846,  37.6870773,\n",
        "         37.73537  ]),\n",
        " <a list of 10 Patch objects>)"
       ]
      }
     ],
     "prompt_number": 50
    },
    {
     "cell_type": "code",
     "collapsed": false,
     "input": [
      "hist([loc[1] for loc in locations])"
     ],
     "language": "python",
     "metadata": {},
     "outputs": [
      {
       "metadata": {},
       "output_type": "pyout",
       "prompt_number": 51,
       "text": [
        "(array([   1.,    0.,    8.,    2.,    6.,   21.,  112.,   63.,   43.,    5.]),\n",
        " array([-122.424703 , -122.3642638, -122.3038246, -122.2433854,\n",
        "        -122.1829462, -122.122507 , -122.0620678, -122.0016286,\n",
        "        -121.9411894, -121.8807502, -121.820311 ]),\n",
        " <a list of 10 Patch objects>)"
       ]
      }
     ],
     "prompt_number": 51
    },
    {
     "cell_type": "code",
     "collapsed": false,
     "input": [
      "heatmap, xedges, yedges = np.histogram2d([loc[0] for loc in locations], [loc[1] for loc in locations])\n",
      "extent = [xedges[0], xedges[-1], yedges[0], yedges[-1]]\n",
      "imshow(heatmap, extent=extent)"
     ],
     "language": "python",
     "metadata": {},
     "outputs": [
      {
       "metadata": {},
       "output_type": "pyout",
       "prompt_number": 52,
       "text": [
        "<matplotlib.image.AxesImage at 0x109aeb950>"
       ]
      }
     ],
     "prompt_number": 52
    },
    {
     "cell_type": "code",
     "collapsed": false,
     "input": [
      "avg = np.mean(locations, axis=0)\n",
      "print avg"
     ],
     "language": "python",
     "metadata": {},
     "outputs": [
      {
       "output_type": "stream",
       "stream": "stdout",
       "text": [
        "[  37.37264852 -122.0118966 ]\n"
       ]
      }
     ],
     "prompt_number": 35
    },
    {
     "cell_type": "code",
     "collapsed": false,
     "input": [
      "from IPython.display import IFrame\n",
      "from IPython.core.display import display\n",
      "        \n",
      "map_url = \"http://maps.google.com/maps?q=loc:{lat},{lon}&z=17\"\n",
      "print map_url.format(lat=avg[0], lon=avg[1])"
     ],
     "language": "python",
     "metadata": {},
     "outputs": [
      {
       "output_type": "stream",
       "stream": "stdout",
       "text": [
        "http://maps.google.com/maps?q=loc:37.3726485172,-122.011896602&z=17\n"
       ]
      }
     ],
     "prompt_number": 37
    },
    {
     "cell_type": "markdown",
     "metadata": {},
     "source": [
      "It seems that the heart of Silicon Valley is at [Gurus of Dance](http://www.gurusofdance.com/) in Sunnyvale!"
     ]
    }
   ],
   "metadata": {}
  }
 ]
}