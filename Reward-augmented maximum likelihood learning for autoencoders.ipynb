{
 "cells": [
  {
   "cell_type": "code",
   "execution_count": 1,
   "metadata": {
    "collapsed": false
   },
   "outputs": [],
   "source": [
    "import numpy as np\n",
    "import tensorflow as tf\n",
    "\n",
    "import matplotlib.pyplot as plt\n",
    "%matplotlib inline"
   ]
  },
  {
   "cell_type": "code",
   "execution_count": 14,
   "metadata": {
    "collapsed": true
   },
   "outputs": [],
   "source": [
    "def build_model(num_timesteps, num_samples, vocab_size, embedding_size,\n",
    "                keep_prob=1.0, cell_size=256):\n",
    "    \"\"\"\n",
    "    Build an RML-enabled seq2seq model which accepts `num_samples` different\n",
    "    target output sequences for a given input sequence.\n",
    "    \n",
    "    Returns:\n",
    "        inputs: List of `batch_size` tensors; list of input ID tensors\n",
    "        targets: List of lists of `batch_size` tensors; each sublist is a\n",
    "            sequence of target ID tensors\n",
    "        loss: Sequence loss averaged over the `num_samples`-many target\n",
    "            sequences\n",
    "    \"\"\"\n",
    "    cell = tf.nn.rnn_cell.GRUCell(cell_size)\n",
    "    if keep_prob < 1.0:\n",
    "        cell = tf.nn.rnn_cell.DropoutWrapper(cell, output_keep_prob=keep_prob)\n",
    "        \n",
    "    inputs = [tf.placeholder(tf.int32, shape=(None,), name=\"inputs/%i\" % t)\n",
    "              for t in range(num_timesteps)]\n",
    "    targets = [[tf.placeholder(tf.int32, shape=(None,), name=\"targets/%i/%i\" % (i, t))\n",
    "                for t in range(num_timesteps)]\n",
    "               for i in range(num_samples)]\n",
    "    \n",
    "    # Decoder inputs: prepend GO token to target sequence; remove last value from targets\n",
    "    decoder_inputs = [tf.pack(tf.zeros_like(targets_i[0]), targets_i[:num_timesteps - 1])\n",
    "                      for targets_i in targets]\n",
    "    weights = [tf.ones_like(targets[0][0], dtype=tf.float32)\n",
    "               for t in range(num_timesteps)]\n",
    "    \n",
    "    def seq2seq_loss(dec_inp_i, targets_i):\n",
    "        outputs, state = tf.nn.seq2seq.embedding_rnn_seq2seq(\n",
    "            inputs, targets_i, cell, vocab_size, vocab_size, embedding_size)\n",
    "        \n",
    "        loss = tf.nn.seq2seq.sequence_loss(outputs, targets_i, weights)\n",
    "        return loss\n",
    "    \n",
    "    seq2seq_loss = tf.make_template(\"seq2seq_loss\", seq2seq_loss)\n",
    "    losses = [seq2seq_loss(dec_inp_i, targets_i)\n",
    "              for dec_inp_i, targets_i in zip(decoder_inputs, targets)]\n",
    "    loss = tf.add_n(losses) / float(len(losses))\n",
    "    \n",
    "    return inputs, targets, loss"
   ]
  },
  {
   "cell_type": "code",
   "execution_count": 3,
   "metadata": {
    "collapsed": true
   },
   "outputs": [],
   "source": [
    "def modify_with_hamming_distance(y, distance, vocab_size):\n",
    "    assert distance <= len(y)\n",
    "    idxs = np.random.choice(len(y), replace=False, size=distance)\n",
    "    replacements = np.random.choice(vocab_size, size=distance)\n",
    "    # TODO: account for case where replacement is same as existing char\n",
    "    \n",
    "    ret = np.copy(y)\n",
    "    ret[idxs] = replacements\n",
    "    return ret\n",
    "\n",
    "def sample_targets_hamming_distance(y, n, vocab_size, p=0.2):\n",
    "    \"\"\"\n",
    "    Sample `n` partially-correct targets by modifying the correct target\n",
    "    sequence `y` under a Hamming distance reward function.\n",
    "    \"\"\"\n",
    "    distances = np.minimum(len(y), np.random.geometric(p, n))\n",
    "    return [modify_with_hamming_distance(y, distance, vocab_size)\n",
    "            for distance in distances]"
   ]
  },
  {
   "cell_type": "code",
   "execution_count": 25,
   "metadata": {
    "collapsed": false
   },
   "outputs": [],
   "source": [
    "def train_batch(model, train_op, sess, batch_size, num_timesteps,\n",
    "                num_samples, vocab_size):\n",
    "    inputs, targets, loss = model\n",
    "    \n",
    "    b_inputs = np.random.choice(vocab_size, size=(num_timesteps, batch_size),\n",
    "                                replace=True)\n",
    "    b_targets = np.copy(b_inputs)\n",
    "    b_targets = [sample_targets_hamming_distance(b_targets_i, num_samples, vocab_size)\n",
    "                 for b_targets_i in b_targets]\n",
    "    b_targets = np.array(b_targets).transpose(1, 0, 2)\n",
    "    \n",
    "    feed = {inputs[t]: b_inputs_t for t, b_inputs_t in enumerate(b_inputs)}\n",
    "    feed.update({targets[j][t]: b_targets_samp_t\n",
    "                 for j, b_targets_samp in enumerate(b_targets)\n",
    "                 for t, b_targets_samp_t in enumerate(b_targets_samp)})\n",
    "                 \n",
    "    loss_b, _ = sess.run((loss, train_op), feed)\n",
    "    return loss_b"
   ]
  },
  {
   "cell_type": "code",
   "execution_count": 26,
   "metadata": {
    "collapsed": false
   },
   "outputs": [],
   "source": [
    "def train_model(num_samples):\n",
    "    NUM_TIMESTEPS = 10\n",
    "    VOCAB_SIZE = 30\n",
    "    EMBEDDING_SIZE = 64\n",
    "\n",
    "    g = tf.Graph()\n",
    "    with g.as_default():\n",
    "        model = build_model(NUM_TIMESTEPS, num_samples, VOCAB_SIZE,\n",
    "                            EMBEDDING_SIZE)\n",
    "        optimizer = tf.train.MomentumOptimizer(0.1, 0.9)\n",
    "        train_op = optimizer.minimize(model[2])\n",
    "\n",
    "    sess = tf.InteractiveSession(graph=g)\n",
    "    sess.run(tf.initialize_all_variables())\n",
    "    \n",
    "    losses = []\n",
    "    for i in range(300):\n",
    "        losses.append(train_batch(model, train_op, sess, 64, NUM_TIMESTEPS,\n",
    "                                  num_samples, VOCAB_SIZE))\n",
    "        if i % 100 == 0:\n",
    "            print \"\\t\", i\n",
    "                \n",
    "    return losses"
   ]
  },
  {
   "cell_type": "code",
   "execution_count": 27,
   "metadata": {
    "collapsed": false
   },
   "outputs": [
    {
     "name": "stdout",
     "output_type": "stream",
     "text": [
      "1\n",
      "\t0\n",
      "\t100\n",
      "\t200\n",
      "2\n",
      "\t0\n",
      "\t100\n",
      "\t200\n",
      "3\n",
      "\t0\n",
      "\t100\n",
      "\t200\n",
      "4\n",
      "\t0\n",
      "\t100\n",
      "\t200\n",
      "5\n",
      "\t0\n",
      "\t100\n",
      "\t200\n"
     ]
    }
   ],
   "source": [
    "losses = {}\n",
    "\n",
    "for num_samples in range(1, 6):\n",
    "    print num_samples\n",
    "    losses[num_samples] = train_model(num_samples)"
   ]
  },
  {
   "cell_type": "code",
   "execution_count": 28,
   "metadata": {
    "collapsed": false
   },
   "outputs": [
    {
     "data": {
      "text/plain": [
       "<matplotlib.legend.Legend at 0x11fec7d90>"
      ]
     },
     "execution_count": 28,
     "metadata": {},
     "output_type": "execute_result"
    },
    {
     "data": {
      "image/png": "[encoded data removed]",
      "text/plain": [
       "<matplotlib.figure.Figure at 0x11f8d4cd0>"
      ]
     },
     "metadata": {},
     "output_type": "display_data"
    }
   ],
   "source": [
    "plots = []\n",
    "for num_samples, losses_j in losses.iteritems():\n",
    "    plot, = plt.plot(losses_j, label=str(num_samples))\n",
    "    plots.append(plot)\n",
    "plt.legend(handles=plots)"
   ]
  },
  {
   "cell_type": "code",
   "execution_count": null,
   "metadata": {
    "collapsed": true
   },
   "outputs": [],
   "source": []
  }
 ],
 "metadata": {
  "kernelspec": {
   "display_name": "Python 2",
   "language": "python",
   "name": "python2"
  },
  "language_info": {
   "codemirror_mode": {
    "name": "ipython",
    "version": 2
   },
   "file_extension": ".py",
   "mimetype": "text/x-python",
   "name": "python",
   "nbconvert_exporter": "python",
   "pygments_lexer": "ipython2",
   "version": "2.7.10"
  },
  "widgets": {
   "state": {},
   "version": "1.1.2"
  }
 },
 "nbformat": 4,
 "nbformat_minor": 0
}
